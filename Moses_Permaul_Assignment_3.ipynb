{
 "cells": [
  {
   "cell_type": "markdown",
   "metadata": {},
   "source": [
    "# Moses Permaul - IS362 - Assignment 3\n",
    "---"
   ]
  },
  {
   "cell_type": "markdown",
   "metadata": {},
   "source": [
    "### Assignment:\n",
    "Suppose you've ridden a bicycle from New York City to Key West, Florida. Your bicycle odometer shows the total miles, which you have dutifully logged at the end of each day with paper and pencil. Your first two entries might be 55 and 120, indicating that you rode your bike 55 miles on day 1 and 65 miles on day 2.\n",
    "1. Your task is to create a pandas Series object that holds the cumulative miles at the end of each day.\n",
    "2. Then use your Python skills to show the total miles that you rode each day."
   ]
  },
  {
   "cell_type": "markdown",
   "metadata": {},
   "source": [
    "### Trip Details:\n",
    "\n",
    "1. According to Google Maps, a bicycle trip from New York City to Key West, Florida is roughly **1518** miles by bicycle.\n",
    "<img src=\"gm_ny_to_kw.jpg\" alt=\"Trip View\" title=\"Google Map NY to KW\" width=\"702\" height=\"341\" />\n",
    "\n",
    "\n",
    "2. According to **Bicycle Touring Pro**, \"the average individual conducting a long-distance bicycle tour will cycle **between 40 and 60 miles** each day\".\n",
    "> Alff, D. N.D. Bike Tour Planning: How Far Should You Plan To Cycle Each Day? *Bicycle Touring Pro*. Retrieved from https://bicycletouringpro.com/bike-tour-planning-how-far-should-you-plan-to-cycle-each-day/#:~:text=The%20average%20individual%20conducting%20a,recommended%20for%20most%2"
   ]
  },
  {
   "cell_type": "markdown",
   "metadata": {},
   "source": [
    "### Specific Details:\n",
    "\n",
    "1. In order to create an accurate simulation of the miles ridden each day, **a random miles generator will be used to select an INT betwen 40 and 70**. We have decided to use 70 as the max INT in our range instead of 60 as outlined in Alf's article. This 70 takes into account a slightly higher daily miles output where the rider might be an above average rider.  \n",
    "\n",
    "2. During the random mile generation process, **a 15 mile grace amount will be used to determine if the rider goes over the  randomly generated mile amount**. This simulates a situation where the rider would want to complete the trip without leaving a low amount of miles for the next day.\n",
    "\n",
    "3. A constant of **1518** will be used as the total trip miles.\n",
    "\n",
    "#### Grace Amount Example:\n",
    "> - The remaining miles left is 50 and the randomly generated mile equals 43. The remaining miles left would be 7. Instead of riding 7 miles the next day, since the remaining miles is 15 or less, the rider will complete the trip by riding the 50 miles even though 43 was generated.\n",
    "> - The remaining miles left is 70 and the randomly generated mile equals 60. The remaining miles left would be 10. Instead of riding 10 miles the next day, the rider will complete the trip by riding the 70 miles even though 60 was generated."
   ]
  },
  {
   "cell_type": "markdown",
   "metadata": {},
   "source": [
    "### Python Code for Imports"
   ]
  },
  {
   "cell_type": "code",
   "execution_count": 1,
   "metadata": {},
   "outputs": [],
   "source": [
    "# import call to random library to retrieve random int function\n",
    "from random import randint\n",
    "\n",
    "# matplotlib, numpy, and panda standard imports\n",
    "import matplotlib.pyplot as plt\n",
    "import numpy as np\n",
    "import pandas as pd\n",
    "\n",
    "# Enable inline plotting\n",
    "%matplotlib inline"
   ]
  },
  {
   "cell_type": "markdown",
   "metadata": {},
   "source": [
    "# Generate Miles Function"
   ]
  },
  {
   "cell_type": "code",
   "execution_count": 2,
   "metadata": {},
   "outputs": [],
   "source": [
    "def generate_miles(remaining_miles):\n",
    "    ''' Function that randomly generates the number of miles riden for the day and returns it to caller after\n",
    "        checks are performed.\n",
    "    \n",
    "        Arguments:\n",
    "            remaining_miles (int): The number of miles left between NY and Key West.\n",
    "        \n",
    "        Return:\n",
    "            miles (int): The randomly generated number of miles ridden for the day.\n",
    "            remaining_miles (int): The total miles left on the trip.\n",
    "    '''\n",
    "    \n",
    "    # generate a random int between 40 and 60 miles\n",
    "    miles = randint(40, 70)\n",
    "  \n",
    "    # if remaining miles is greater than generated miles and subtraction is greater than grace amount\n",
    "    if (remaining_miles > miles) and (remaining_miles - miles) > 15:\n",
    "        return miles\n",
    "    \n",
    "    # if remaining miles is greater than generated miles and subtraction is less than grace amount\n",
    "    elif (remaining_miles > miles) and (remaining_miles - miles) <= 15:\n",
    "        return remaining_miles\n",
    "    \n",
    "    # return remaining miles for every other case\n",
    "    else:\n",
    "        return remaining_miles"
   ]
  },
  {
   "cell_type": "markdown",
   "metadata": {},
   "source": [
    "### Main Code To Generate Miles and Store in Lists"
   ]
  },
  {
   "cell_type": "code",
   "execution_count": 3,
   "metadata": {},
   "outputs": [],
   "source": [
    "# constant used for the total miles to travel\n",
    "total_miles = 1518\n",
    "\n",
    "# variable to store value for how many mles completed\n",
    "miles_completed = 0\n",
    "\n",
    "# variable to store the day count, initialized to 1\n",
    "day_count = 1\n",
    "\n",
    "# dictionary to store miles and days for later use with a pandas series objects\n",
    "logged_miles = {}\n",
    "\n",
    "# loop to generate miles riden each day\n",
    "while miles_completed < total_miles:\n",
    "    \n",
    "    # call generator and pass in the results of total miles minus miles completed\n",
    "    miles = generate_miles(total_miles - miles_completed)\n",
    "   \n",
    "    # add entry to dictionary\n",
    "    logged_miles[f'Day {day_count}'] = miles\n",
    "      \n",
    "    # update day count and miles completed values\n",
    "    day_count += 1\n",
    "    miles_completed += miles"
   ]
  },
  {
   "cell_type": "markdown",
   "metadata": {},
   "source": [
    "### Pandas Code - Building Series Objects from the Populated Lists"
   ]
  },
  {
   "cell_type": "code",
   "execution_count": 4,
   "metadata": {},
   "outputs": [],
   "source": [
    "# pandas series object storing the daily miles riden each day\n",
    "daily_log = pd.Series(logged_miles)\n",
    "\n",
    "# pandas series object simulating the odometer readings at the end of each day\n",
    "odometer = daily_log.cumsum()"
   ]
  },
  {
   "cell_type": "markdown",
   "metadata": {},
   "source": [
    "### Viewing the Cumulative Miles at the End of Each Day"
   ]
  },
  {
   "cell_type": "code",
   "execution_count": 5,
   "metadata": {
    "scrolled": true
   },
   "outputs": [
    {
     "name": "stdout",
     "output_type": "stream",
     "text": [
      "Day 1       40\n",
      "Day 2       99\n",
      "Day 3      160\n",
      "Day 4      206\n",
      "Day 5      260\n",
      "Day 6      312\n",
      "Day 7      352\n",
      "Day 8      399\n",
      "Day 9      466\n",
      "Day 10     533\n",
      "Day 11     602\n",
      "Day 12     662\n",
      "Day 13     713\n",
      "Day 14     756\n",
      "Day 15     816\n",
      "Day 16     860\n",
      "Day 17     921\n",
      "Day 18     970\n",
      "Day 19    1022\n",
      "Day 20    1081\n",
      "Day 21    1131\n",
      "Day 22    1173\n",
      "Day 23    1216\n",
      "Day 24    1272\n",
      "Day 25    1316\n",
      "Day 26    1367\n",
      "Day 27    1418\n",
      "Day 28    1483\n",
      "Day 29    1518\n",
      "dtype: int64\n"
     ]
    }
   ],
   "source": [
    "print(odometer)"
   ]
  },
  {
   "cell_type": "markdown",
   "metadata": {},
   "source": [
    "### Viewing the Total Miles Riden Each Day"
   ]
  },
  {
   "cell_type": "code",
   "execution_count": 6,
   "metadata": {
    "scrolled": true
   },
   "outputs": [
    {
     "name": "stdout",
     "output_type": "stream",
     "text": [
      "Day 1     40\n",
      "Day 2     59\n",
      "Day 3     61\n",
      "Day 4     46\n",
      "Day 5     54\n",
      "Day 6     52\n",
      "Day 7     40\n",
      "Day 8     47\n",
      "Day 9     67\n",
      "Day 10    67\n",
      "Day 11    69\n",
      "Day 12    60\n",
      "Day 13    51\n",
      "Day 14    43\n",
      "Day 15    60\n",
      "Day 16    44\n",
      "Day 17    61\n",
      "Day 18    49\n",
      "Day 19    52\n",
      "Day 20    59\n",
      "Day 21    50\n",
      "Day 22    42\n",
      "Day 23    43\n",
      "Day 24    56\n",
      "Day 25    44\n",
      "Day 26    51\n",
      "Day 27    51\n",
      "Day 28    65\n",
      "Day 29    35\n",
      "dtype: int64\n"
     ]
    }
   ],
   "source": [
    "print(daily_log)"
   ]
  },
  {
   "cell_type": "markdown",
   "metadata": {},
   "source": [
    "### Visualizing the Total Miles Ridden Each "
   ]
  },
  {
   "cell_type": "code",
   "execution_count": 7,
   "metadata": {},
   "outputs": [
    {
     "data": {
      "image/png": "[encoded data removed]",
      "text/plain": [
       "<Figure size 432x288 with 1 Axes>"
      ]
     },
     "metadata": {
      "needs_background": "light"
     },
     "output_type": "display_data"
    }
   ],
   "source": [
    "daily_log.plot(title='Daily Miles Ridden');"
   ]
  },
  {
   "cell_type": "code",
   "execution_count": null,
   "metadata": {},
   "outputs": [],
   "source": []
  }
 ],
 "metadata": {
  "kernelspec": {
   "display_name": "Python 3",
   "language": "python",
   "name": "python3"
  },
  "language_info": {
   "codemirror_mode": {
    "name": "ipython",
    "version": 3
   },
   "file_extension": ".py",
   "mimetype": "text/x-python",
   "name": "python",
   "nbconvert_exporter": "python",
   "pygments_lexer": "ipython3",
   "version": "3.8.3"
  }
 },
 "nbformat": 4,
 "nbformat_minor": 4
}
